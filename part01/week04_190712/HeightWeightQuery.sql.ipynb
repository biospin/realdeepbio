{
 "cells": [
  {
   "cell_type": "code",
   "execution_count": null,
   "metadata": {},
   "outputs": [],
   "source": [
    "-- ------------------------------------------------------------------\n",
    "-- Title: Extract height and weight for ICUSTAY_IDs\n",
    "-- Description: This query gets the first, minimum, and maximum weight and height\n",
    "--        for a single ICUSTAY_ID. It extracts data from the CHARTEVENTS table.\n",
    "-- MIMIC version: MIMIC-III v1.2\n",
    "-- Created by: Erin Hong, Alistair Johnson\n",
    "-- ------------------------------------------------------------------\n"
   ]
  },
  {
   "cell_type": "code",
   "execution_count": null,
   "metadata": {},
   "outputs": [],
   "source": [
    "DROP MATERIALIZED VIEW IF EXISTS heightweight CASCADE;\n",
    "CREATE MATERIALIZED VIEW heightweight\n",
    "AS\n",
    "WITH FirstVRawData AS\n",
    "  (SELECT c.charttime,\n",
    "    c.itemid,c.subject_id,c.icustay_id,\n",
    "    CASE\n",
    "      WHEN c.itemid IN (762, 763, 3723, 3580, 3581, 3582, 226512)\n",
    "        THEN 'WEIGHT'\n",
    "      WHEN c.itemid IN (920, 1394, 4187, 3486, 3485, 4188, 226707)\n",
    "        THEN 'HEIGHT'\n",
    "    END AS parameter,\n"
   ]
  },
  {
   "cell_type": "markdown",
   "metadata": {},
   "source": [
    "중환자실 환자들은  대부분 침대에 누워있음\n",
    "보통 중환자실 환자들은 매일 또는 하루에 침대에 누운 상태에서 Weight를 지속적으로 측정\n",
    "Height는 따로 매일 측정하지는 않겠지만\n",
    "\n",
    "CHARTEVENTS table에 있는 변수 중 itemid는 측정 항목을 의미함.\n",
    "weight와 관련된 변수들은 762, 763, 3723, 3580, 3581, 3582, 226512 등으로 다양하게 coding되고 있음\n",
    "height 또한 마찬가지로 다음과 같이 coding되고 있음 920, 1394, 4187, 3486, 3485, 4188, 226707\n"
   ]
  },
  {
   "cell_type": "code",
   "execution_count": null,
   "metadata": {},
   "outputs": [],
   "source": [
    "    -- Ensure that all weights are in kg and heights are in centimeters\n",
    "    \n",
    "    CASE\n",
    "      WHEN c.itemid   IN (3581, 226531)\n",
    "        THEN c.valuenum * 0.45359237\n",
    "      WHEN c.itemid   IN (3582)\n",
    "        THEN c.valuenum * 0.0283495231\n",
    "      WHEN c.itemid   IN (920, 1394, 4187, 3486, 226707)\n",
    "        THEN c.valuenum * 2.54\n",
    "      ELSE c.valuenum\n",
    "    END AS valuenum\n",
    "  FROM chartevents c\n",
    "  WHERE c.valuenum   IS NOT NULL\n",
    "    "
   ]
  },
  {
   "cell_type": "markdown",
   "metadata": {},
   "source": [
    "근데 문제는 itemID의 변수들의 단위가 서로 다르다는 것. \n",
    "\n",
    "키와 관련된 itemID 변수 중 920, 1394, 4187, 3486, 226707로 coding된 경우 inch로 표시되어 있기 때문에 변환필요\n",
    "몸무게와 관련된 itemID 변수중에서도 Kg이 아닌 경우 이에 대한 변환이 필요함. "
   ]
  },
  {
   "cell_type": "code",
   "execution_count": null,
   "metadata": {},
   "outputs": [],
   "source": [
    "  -- exclude rows marked as error\n",
    "  AND c.error IS DISTINCT FROM 1\n",
    "  AND ( ( c.itemid  IN (762, 763, 3723, 3580, -- Weight Kg\n",
    "    3581,                                     -- Weight lb\n",
    "    3582,                                     -- Weight oz\n",
    "    920, 1394, 4187, 3486,                    -- Height inches\n",
    "    3485, 4188                                -- Height cm\n",
    "    -- Metavision\n",
    "    , 226707 -- Height (measured in inches)\n",
    "    , 226512 -- Admission Weight (Kg)\n",
    "\n",
    "    -- note we intentionally ignore the below ITEMIDs in metavision\n",
    "    -- these are duplicate data in a different unit\n",
    "    -- , 226531 -- Admission Weight (lbs.)\n",
    "    -- , 226730 -- Height (cm)\n",
    "    )\n",
    "  AND c.valuenum <> 0 )\n",
    "    ) )\n",
    "  --)"
   ]
  },
  {
   "cell_type": "markdown",
   "metadata": {},
   "source": [
    " --select * from FirstVRawData\n",
    ", SingleParameters AS (\n",
    "  SELECT DISTINCT subject_id,\n",
    "         icustay_id,\n",
    "         parameter,\n",
    "         first_value(valuenum) over\n",
    "            (partition BY subject_id, icustay_id, parameter\n",
    "             order by charttime ROWS BETWEEN UNBOUNDED PRECEDING AND UNBOUNDED FOLLOWING)\n",
    "             AS first_valuenum,\n",
    "         MIN(valuenum) over\n",
    "            (partition BY subject_id, icustay_id, parameter\n",
    "            order by charttime ROWS BETWEEN UNBOUNDED PRECEDING AND UNBOUNDED FOLLOWING)\n",
    "            AS min_valuenum,\n",
    "         MAX(valuenum) over\n",
    "            (partition BY subject_id, icustay_id, parameter\n",
    "            order by charttime ROWS BETWEEN UNBOUNDED PRECEDING AND UNBOUNDED FOLLOWING)\n",
    "            AS max_valuenum\n",
    "    FROM FirstVRawData"
   ]
  },
  {
   "cell_type": "markdown",
   "metadata": {},
   "source": [
    "maximuweight, height 값중에서 \n",
    "\n",
    "1) 중환자실 입원 당시 - frist_valuenum\n",
    "2) 중환자실 입원 중 최고 - max_valuenum\n",
    "3) 중환자실 입원 중 최저 - min_valuenum\n",
    "\n",
    "을 추출"
   ]
  },
  {
   "cell_type": "code",
   "execution_count": null,
   "metadata": {},
   "outputs": [],
   "source": [
    "--select * from SingleParameters\n",
    "\n",
    ", PivotParameters AS (SELECT subject_id, icustay_id,\n",
    "    MAX(case when parameter = 'HEIGHT' then first_valuenum else NULL end) AS height_first,\n",
    "    MAX(case when parameter = 'HEIGHT' then min_valuenum else NULL end)   AS height_min,\n",
    "    MAX(case when parameter = 'HEIGHT' then max_valuenum else NULL end)   AS height_max,\n",
    "    MAX(case when parameter = 'WEIGHT' then first_valuenum else NULL end) AS weight_first,\n",
    "    MAX(case when parameter = 'WEIGHT' then min_valuenum else NULL end)   AS weight_min,\n",
    "    MAX(case when parameter = 'WEIGHT' then max_valuenum else NULL end)   AS weight_max\n",
    "  FROM SingleParameters\n",
    "  GROUP BY subject_id,\n",
    "    icustay_id"
   ]
  },
  {
   "cell_type": "markdown",
   "metadata": {},
   "source": [
    "위쪽 코드와의 차이점을 잘 모르겠네요. ㅠ.ㅠ\n"
   ]
  },
  {
   "cell_type": "code",
   "execution_count": null,
   "metadata": {},
   "outputs": [],
   "source": [
    "--select * from PivotParameters\n",
    "SELECT f.icustay_id,\n",
    "  f.subject_id,\n",
    "  ROUND( cast(f.height_first as numeric), 2) AS height_first,\n",
    "  ROUND(cast(f.height_min as numeric),2) AS height_min,\n",
    "  ROUND(cast(f.height_max as numeric),2) AS height_max,\n",
    "  ROUND(cast(f.weight_first as numeric), 2) AS weight_first,\n",
    "  ROUND(cast(f.weight_min as numeric), 2)   AS weight_min,\n",
    "  ROUND(cast(f.weight_max as numeric), 2)   AS weight_max\n",
    "    \n",
    "FROM PivotParameters f\n",
    "ORDER BY subject_id, icustay_id;\n"
   ]
  },
  {
   "cell_type": "markdown",
   "metadata": {},
   "source": [
    "자릿수 맞춰주기"
   ]
  },
  {
   "cell_type": "code",
   "execution_count": null,
   "metadata": {},
   "outputs": [],
   "source": []
  }
 ],
 "metadata": {
  "kernelspec": {
   "display_name": "Python 3",
   "language": "python",
   "name": "python3"
  },
  "language_info": {
   "codemirror_mode": {
    "name": "ipython",
    "version": 3
   },
   "file_extension": ".py",
   "mimetype": "text/x-python",
   "name": "python",
   "nbconvert_exporter": "python",
   "pygments_lexer": "ipython3",
   "version": "3.7.3"
  }
 },
 "nbformat": 4,
 "nbformat_minor": 2
}
